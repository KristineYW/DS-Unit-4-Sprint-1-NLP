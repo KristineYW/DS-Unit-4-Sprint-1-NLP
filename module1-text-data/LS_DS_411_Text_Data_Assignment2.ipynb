{
 "cells": [
  {
   "cell_type": "markdown",
   "metadata": {},
   "source": [
    "<img align=\"left\" src=\"https://lever-client-logos.s3.amazonaws.com/864372b1-534c-480e-acd5-9711f850815c-1524247202159.png\" width=200>\n",
    "<br></br>\n",
    "<br></br>\n",
    "\n",
    "# Natural Language Processing (NLP)\n",
    "## *Data Science Unit 4 Sprint 1 Assignment 1*\n",
    "\n",
    "Your goal in this assignment: find the attributes of the best & worst coffee shops in the dataset. The text is fairly raw: dates in the review, extra words in the `star_rating` column, etc. You'll probably want to clean that stuff up for a better analysis. \n",
    "\n",
    "Analyze the corpus of text using text visualizations of token frequency. Try cleaning the data as much as possible. Try the following techniques: \n",
    "- Lemmatization\n",
    "- Custom stopword removal\n",
    "\n",
    "Keep in mind the attributes of good tokens. Once you have a solid baseline, layer in the star rating in your visualization(s). Key part of this assignment - produce a write-up of the attributes of the best and worst coffee shops. Based on your analysis, what makes the best the best and the worst the worst. Use graphs and numbesr from your analysis to support your conclusions. There should be plenty of markdown cells! :coffee:"
   ]
  },
  {
   "cell_type": "code",
   "execution_count": 3,
   "metadata": {},
   "outputs": [
    {
     "data": {
      "image/jpeg": "[encoded data removed]",
      "text/html": [
       "\n",
       "        <iframe\n",
       "            width=\"400\"\n",
       "            height=\"300\"\n",
       "            src=\"https://www.youtube.com/embed/Jml7NVYm8cs\"\n",
       "            frameborder=\"0\"\n",
       "            allowfullscreen\n",
       "        ></iframe>\n",
       "        "
      ],
      "text/plain": [
       "<IPython.lib.display.YouTubeVideo at 0x11803a8d0>"
      ]
     },
     "execution_count": 3,
     "metadata": {},
     "output_type": "execute_result"
    }
   ],
   "source": [
    "from IPython.display import YouTubeVideo\n",
    "\n",
    "YouTubeVideo('Jml7NVYm8cs')"
   ]
  },
  {
   "cell_type": "code",
   "execution_count": 4,
   "metadata": {},
   "outputs": [
    {
     "data": {
      "text/plain": [
       "'/Users/yingwang/Desktop/DS-Unit-4-Sprint-1-NLP/module1-text-data'"
      ]
     },
     "execution_count": 4,
     "metadata": {},
     "output_type": "execute_result"
    }
   ],
   "source": [
    "%pwd"
   ]
  },
  {
   "cell_type": "code",
   "execution_count": 5,
   "metadata": {},
   "outputs": [
    {
     "data": {
      "text/html": [
       "<div>\n",
       "<style scoped>\n",
       "    .dataframe tbody tr th:only-of-type {\n",
       "        vertical-align: middle;\n",
       "    }\n",
       "\n",
       "    .dataframe tbody tr th {\n",
       "        vertical-align: top;\n",
       "    }\n",
       "\n",
       "    .dataframe thead th {\n",
       "        text-align: right;\n",
       "    }\n",
       "</style>\n",
       "<table border=\"1\" class=\"dataframe\">\n",
       "  <thead>\n",
       "    <tr style=\"text-align: right;\">\n",
       "      <th></th>\n",
       "      <th>coffee_shop_name</th>\n",
       "      <th>full_review_text</th>\n",
       "      <th>star_rating</th>\n",
       "    </tr>\n",
       "  </thead>\n",
       "  <tbody>\n",
       "    <tr>\n",
       "      <th>0</th>\n",
       "      <td>The Factory - Cafe With a Soul</td>\n",
       "      <td>11/25/2016 1 check-in Love love loved the atm...</td>\n",
       "      <td>5.0 star rating</td>\n",
       "    </tr>\n",
       "    <tr>\n",
       "      <th>1</th>\n",
       "      <td>The Factory - Cafe With a Soul</td>\n",
       "      <td>12/2/2016 Listed in Date Night: Austin, Ambia...</td>\n",
       "      <td>4.0 star rating</td>\n",
       "    </tr>\n",
       "    <tr>\n",
       "      <th>2</th>\n",
       "      <td>The Factory - Cafe With a Soul</td>\n",
       "      <td>11/30/2016 1 check-in Listed in Brunch Spots ...</td>\n",
       "      <td>4.0 star rating</td>\n",
       "    </tr>\n",
       "    <tr>\n",
       "      <th>3</th>\n",
       "      <td>The Factory - Cafe With a Soul</td>\n",
       "      <td>11/25/2016 Very cool decor! Good drinks Nice ...</td>\n",
       "      <td>2.0 star rating</td>\n",
       "    </tr>\n",
       "    <tr>\n",
       "      <th>4</th>\n",
       "      <td>The Factory - Cafe With a Soul</td>\n",
       "      <td>12/3/2016 1 check-in They are located within ...</td>\n",
       "      <td>4.0 star rating</td>\n",
       "    </tr>\n",
       "  </tbody>\n",
       "</table>\n",
       "</div>"
      ],
      "text/plain": [
       "                  coffee_shop_name  \\\n",
       "0  The Factory - Cafe With a Soul    \n",
       "1  The Factory - Cafe With a Soul    \n",
       "2  The Factory - Cafe With a Soul    \n",
       "3  The Factory - Cafe With a Soul    \n",
       "4  The Factory - Cafe With a Soul    \n",
       "\n",
       "                                    full_review_text        star_rating  \n",
       "0   11/25/2016 1 check-in Love love loved the atm...   5.0 star rating   \n",
       "1   12/2/2016 Listed in Date Night: Austin, Ambia...   4.0 star rating   \n",
       "2   11/30/2016 1 check-in Listed in Brunch Spots ...   4.0 star rating   \n",
       "3   11/25/2016 Very cool decor! Good drinks Nice ...   2.0 star rating   \n",
       "4   12/3/2016 1 check-in They are located within ...   4.0 star rating   "
      ]
     },
     "execution_count": 5,
     "metadata": {},
     "output_type": "execute_result"
    }
   ],
   "source": [
    "import pandas as pd\n",
    "\n",
    "url = \"https://raw.githubusercontent.com/KristineYW/DS-Unit-4-Sprint-1-NLP/main/module1-text-data/data/yelp_coffeeshop_review_data.csv\"\n",
    "\n",
    "shops = pd.read_csv(url)\n",
    "shops.head()"
   ]
  },
  {
   "cell_type": "code",
   "execution_count": 6,
   "metadata": {},
   "outputs": [
    {
     "data": {
      "text/plain": [
       "(7616, 3)"
      ]
     },
     "execution_count": 6,
     "metadata": {},
     "output_type": "execute_result"
    }
   ],
   "source": [
    "shops.shape"
   ]
  },
  {
   "cell_type": "markdown",
   "metadata": {},
   "source": [
    "## How do we want to analyze these coffee shop tokens? \n",
    "\n",
    "- Overall Word / Token Count\n",
    "- View Counts by Rating \n",
    "- *Hint:* a 'bad' coffee shops has a rating betweeen 1 & 3 based on the distribution of ratings. A 'good' coffee shop is a 4 or 5. "
   ]
  },
  {
   "cell_type": "code",
   "execution_count": 34,
   "metadata": {},
   "outputs": [],
   "source": [
    "# Import libraries\n",
    "\n",
    "from collections import Counter\n",
    "import re\n",
    " \n",
    "import pandas as pd\n",
    "\n",
    "# Plotting\n",
    "import squarify\n",
    "import matplotlib.pyplot as plt\n",
    "import seaborn as sns\n",
    "\n",
    "# NLP Libraries\n",
    "import spacy\n",
    "from spacy.tokenizer import Tokenizer\n",
    "from nltk.stem import PorterStemmer\n",
    "\n",
    "nlp = spacy.load(\"en_core_web_lg\")"
   ]
  },
  {
   "cell_type": "code",
   "execution_count": 8,
   "metadata": {},
   "outputs": [],
   "source": [
    "# Tokenize text to remove non-alphanumeric characters\n",
    "\n",
    "def tokenize(text):\n",
    "\n",
    "    tokens = re.sub('[^a-zA-Z 0-9]', '', text)\n",
    "    tokens = tokens.lower().split()\n",
    "    \n",
    "    return tokens"
   ]
  },
  {
   "cell_type": "code",
   "execution_count": 9,
   "metadata": {},
   "outputs": [
    {
     "data": {
      "text/html": [
       "<div>\n",
       "<style scoped>\n",
       "    .dataframe tbody tr th:only-of-type {\n",
       "        vertical-align: middle;\n",
       "    }\n",
       "\n",
       "    .dataframe tbody tr th {\n",
       "        vertical-align: top;\n",
       "    }\n",
       "\n",
       "    .dataframe thead th {\n",
       "        text-align: right;\n",
       "    }\n",
       "</style>\n",
       "<table border=\"1\" class=\"dataframe\">\n",
       "  <thead>\n",
       "    <tr style=\"text-align: right;\">\n",
       "      <th></th>\n",
       "      <th>coffee_shop_name</th>\n",
       "      <th>full_review_text</th>\n",
       "      <th>star_rating</th>\n",
       "      <th>tokens</th>\n",
       "    </tr>\n",
       "  </thead>\n",
       "  <tbody>\n",
       "    <tr>\n",
       "      <th>0</th>\n",
       "      <td>The Factory - Cafe With a Soul</td>\n",
       "      <td>11/25/2016 1 check-in Love love loved the atm...</td>\n",
       "      <td>5.0 star rating</td>\n",
       "      <td>[11252016, 1, checkin, love, love, loved, the,...</td>\n",
       "    </tr>\n",
       "    <tr>\n",
       "      <th>1</th>\n",
       "      <td>The Factory - Cafe With a Soul</td>\n",
       "      <td>12/2/2016 Listed in Date Night: Austin, Ambia...</td>\n",
       "      <td>4.0 star rating</td>\n",
       "      <td>[1222016, listed, in, date, night, austin, amb...</td>\n",
       "    </tr>\n",
       "    <tr>\n",
       "      <th>2</th>\n",
       "      <td>The Factory - Cafe With a Soul</td>\n",
       "      <td>11/30/2016 1 check-in Listed in Brunch Spots ...</td>\n",
       "      <td>4.0 star rating</td>\n",
       "      <td>[11302016, 1, checkin, listed, in, brunch, spo...</td>\n",
       "    </tr>\n",
       "    <tr>\n",
       "      <th>3</th>\n",
       "      <td>The Factory - Cafe With a Soul</td>\n",
       "      <td>11/25/2016 Very cool decor! Good drinks Nice ...</td>\n",
       "      <td>2.0 star rating</td>\n",
       "      <td>[11252016, very, cool, decor, good, drinks, ni...</td>\n",
       "    </tr>\n",
       "    <tr>\n",
       "      <th>4</th>\n",
       "      <td>The Factory - Cafe With a Soul</td>\n",
       "      <td>12/3/2016 1 check-in They are located within ...</td>\n",
       "      <td>4.0 star rating</td>\n",
       "      <td>[1232016, 1, checkin, they, are, located, with...</td>\n",
       "    </tr>\n",
       "  </tbody>\n",
       "</table>\n",
       "</div>"
      ],
      "text/plain": [
       "                  coffee_shop_name  \\\n",
       "0  The Factory - Cafe With a Soul    \n",
       "1  The Factory - Cafe With a Soul    \n",
       "2  The Factory - Cafe With a Soul    \n",
       "3  The Factory - Cafe With a Soul    \n",
       "4  The Factory - Cafe With a Soul    \n",
       "\n",
       "                                    full_review_text        star_rating  \\\n",
       "0   11/25/2016 1 check-in Love love loved the atm...   5.0 star rating    \n",
       "1   12/2/2016 Listed in Date Night: Austin, Ambia...   4.0 star rating    \n",
       "2   11/30/2016 1 check-in Listed in Brunch Spots ...   4.0 star rating    \n",
       "3   11/25/2016 Very cool decor! Good drinks Nice ...   2.0 star rating    \n",
       "4   12/3/2016 1 check-in They are located within ...   4.0 star rating    \n",
       "\n",
       "                                              tokens  \n",
       "0  [11252016, 1, checkin, love, love, loved, the,...  \n",
       "1  [1222016, listed, in, date, night, austin, amb...  \n",
       "2  [11302016, 1, checkin, listed, in, brunch, spo...  \n",
       "3  [11252016, very, cool, decor, good, drinks, ni...  \n",
       "4  [1232016, 1, checkin, they, are, located, with...  "
      ]
     },
     "execution_count": 9,
     "metadata": {},
     "output_type": "execute_result"
    }
   ],
   "source": [
    "shops['tokens'] = shops['full_review_text'].apply(tokenize)\n",
    "\n",
    "shops.head()"
   ]
  },
  {
   "cell_type": "code",
   "execution_count": 10,
   "metadata": {},
   "outputs": [
    {
     "data": {
      "text/plain": [
       "[('the', 34809),\n",
       " ('and', 26650),\n",
       " ('a', 22755),\n",
       " ('i', 20237),\n",
       " ('to', 17164),\n",
       " ('of', 12600),\n",
       " ('is', 11999),\n",
       " ('coffee', 10353),\n",
       " ('was', 9707),\n",
       " ('in', 9546)]"
      ]
     },
     "execution_count": 10,
     "metadata": {},
     "output_type": "execute_result"
    }
   ],
   "source": [
    "# To take the overall word/token count:\n",
    "\n",
    "# Import Counter \n",
    "from collections import Counter\n",
    "\n",
    "# Instantiate Counter\n",
    "counts = Counter()\n",
    "\n",
    "# Apply instantiated counter to tokens column\n",
    "shops['tokens'].apply(lambda x: counts.update(x))\n",
    "\n",
    "# Check 10 most common words in the tokens column\n",
    "counts.most_common(10)"
   ]
  },
  {
   "cell_type": "code",
   "execution_count": 11,
   "metadata": {},
   "outputs": [],
   "source": [
    "# Create lemmatization function to lemmatize the tokens\n",
    "\n",
    "def get_lemmas(text):\n",
    "\n",
    "    lemmas = []\n",
    "    \n",
    "    doc = nlp(text)\n",
    "    \n",
    "    for token in doc: \n",
    "        if ((token.is_stop == False) and (token.is_punct == False)) and (token.pos_ != 'PRON'):\n",
    "            lemmas.append(token.lemma_)\n",
    "    \n",
    "    return lemmas"
   ]
  },
  {
   "cell_type": "code",
   "execution_count": 12,
   "metadata": {},
   "outputs": [],
   "source": [
    "shops['lemmas'] = shops['full_review_text'].apply(get_lemmas)"
   ]
  },
  {
   "cell_type": "code",
   "execution_count": 13,
   "metadata": {},
   "outputs": [
    {
     "name": "stdout",
     "output_type": "stream",
     "text": [
      "(7616, 5)\n"
     ]
    },
    {
     "data": {
      "text/html": [
       "<div>\n",
       "<style scoped>\n",
       "    .dataframe tbody tr th:only-of-type {\n",
       "        vertical-align: middle;\n",
       "    }\n",
       "\n",
       "    .dataframe tbody tr th {\n",
       "        vertical-align: top;\n",
       "    }\n",
       "\n",
       "    .dataframe thead th {\n",
       "        text-align: right;\n",
       "    }\n",
       "</style>\n",
       "<table border=\"1\" class=\"dataframe\">\n",
       "  <thead>\n",
       "    <tr style=\"text-align: right;\">\n",
       "      <th></th>\n",
       "      <th>coffee_shop_name</th>\n",
       "      <th>full_review_text</th>\n",
       "      <th>star_rating</th>\n",
       "      <th>tokens</th>\n",
       "      <th>lemmas</th>\n",
       "    </tr>\n",
       "  </thead>\n",
       "  <tbody>\n",
       "    <tr>\n",
       "      <th>0</th>\n",
       "      <td>The Factory - Cafe With a Soul</td>\n",
       "      <td>11/25/2016 1 check-in Love love loved the atm...</td>\n",
       "      <td>5.0 star rating</td>\n",
       "      <td>[11252016, 1, checkin, love, love, loved, the,...</td>\n",
       "      <td>[ , 11/25/2016, 1, check, Love, love, love, at...</td>\n",
       "    </tr>\n",
       "    <tr>\n",
       "      <th>1</th>\n",
       "      <td>The Factory - Cafe With a Soul</td>\n",
       "      <td>12/2/2016 Listed in Date Night: Austin, Ambia...</td>\n",
       "      <td>4.0 star rating</td>\n",
       "      <td>[1222016, listed, in, date, night, austin, amb...</td>\n",
       "      <td>[ , 12/2/2016, list, Date, Night, Austin, Ambi...</td>\n",
       "    </tr>\n",
       "    <tr>\n",
       "      <th>2</th>\n",
       "      <td>The Factory - Cafe With a Soul</td>\n",
       "      <td>11/30/2016 1 check-in Listed in Brunch Spots ...</td>\n",
       "      <td>4.0 star rating</td>\n",
       "      <td>[11302016, 1, checkin, listed, in, brunch, spo...</td>\n",
       "      <td>[ , 11/30/2016, 1, check, list, Brunch, Spots,...</td>\n",
       "    </tr>\n",
       "    <tr>\n",
       "      <th>3</th>\n",
       "      <td>The Factory - Cafe With a Soul</td>\n",
       "      <td>11/25/2016 Very cool decor! Good drinks Nice ...</td>\n",
       "      <td>2.0 star rating</td>\n",
       "      <td>[11252016, very, cool, decor, good, drinks, ni...</td>\n",
       "      <td>[ , 11/25/2016, cool, decor, good, drink, nice...</td>\n",
       "    </tr>\n",
       "    <tr>\n",
       "      <th>4</th>\n",
       "      <td>The Factory - Cafe With a Soul</td>\n",
       "      <td>12/3/2016 1 check-in They are located within ...</td>\n",
       "      <td>4.0 star rating</td>\n",
       "      <td>[1232016, 1, checkin, they, are, located, with...</td>\n",
       "      <td>[ , 12/3/2016, 1, check, locate, Northcross, m...</td>\n",
       "    </tr>\n",
       "  </tbody>\n",
       "</table>\n",
       "</div>"
      ],
      "text/plain": [
       "                  coffee_shop_name  \\\n",
       "0  The Factory - Cafe With a Soul    \n",
       "1  The Factory - Cafe With a Soul    \n",
       "2  The Factory - Cafe With a Soul    \n",
       "3  The Factory - Cafe With a Soul    \n",
       "4  The Factory - Cafe With a Soul    \n",
       "\n",
       "                                    full_review_text        star_rating  \\\n",
       "0   11/25/2016 1 check-in Love love loved the atm...   5.0 star rating    \n",
       "1   12/2/2016 Listed in Date Night: Austin, Ambia...   4.0 star rating    \n",
       "2   11/30/2016 1 check-in Listed in Brunch Spots ...   4.0 star rating    \n",
       "3   11/25/2016 Very cool decor! Good drinks Nice ...   2.0 star rating    \n",
       "4   12/3/2016 1 check-in They are located within ...   4.0 star rating    \n",
       "\n",
       "                                              tokens  \\\n",
       "0  [11252016, 1, checkin, love, love, loved, the,...   \n",
       "1  [1222016, listed, in, date, night, austin, amb...   \n",
       "2  [11302016, 1, checkin, listed, in, brunch, spo...   \n",
       "3  [11252016, very, cool, decor, good, drinks, ni...   \n",
       "4  [1232016, 1, checkin, they, are, located, with...   \n",
       "\n",
       "                                              lemmas  \n",
       "0  [ , 11/25/2016, 1, check, Love, love, love, at...  \n",
       "1  [ , 12/2/2016, list, Date, Night, Austin, Ambi...  \n",
       "2  [ , 11/30/2016, 1, check, list, Brunch, Spots,...  \n",
       "3  [ , 11/25/2016, cool, decor, good, drink, nice...  \n",
       "4  [ , 12/3/2016, 1, check, locate, Northcross, m...  "
      ]
     },
     "execution_count": 13,
     "metadata": {},
     "output_type": "execute_result"
    }
   ],
   "source": [
    "print(shops.shape)\n",
    "shops.head()"
   ]
  },
  {
   "cell_type": "code",
   "execution_count": 14,
   "metadata": {},
   "outputs": [],
   "source": [
    "shops['star_rating'] = pd.to_numeric(shops['star_rating'].astype(str).str[:3], errors='coerce')"
   ]
  },
  {
   "cell_type": "code",
   "execution_count": 15,
   "metadata": {},
   "outputs": [
    {
     "data": {
      "text/plain": [
       "dtype('float64')"
      ]
     },
     "execution_count": 15,
     "metadata": {},
     "output_type": "execute_result"
    }
   ],
   "source": [
    "shops['star_rating'].dtype"
   ]
  },
  {
   "cell_type": "code",
   "execution_count": 16,
   "metadata": {},
   "outputs": [],
   "source": [
    "def count(docs):\n",
    "\n",
    "        word_counts = Counter()\n",
    "        appears_in = Counter()\n",
    "        \n",
    "        total_docs = len(docs)\n",
    "\n",
    "        for doc in docs:\n",
    "            word_counts.update(doc)\n",
    "            appears_in.update(set(doc))\n",
    "\n",
    "        temp = zip(word_counts.keys(), word_counts.values())\n",
    "        \n",
    "        wc = pd.DataFrame(temp, columns = ['word', 'count'])\n",
    "\n",
    "        wc['rank'] = wc['count'].rank(method='first', ascending=False)\n",
    "        total = wc['count'].sum()\n",
    "\n",
    "        wc['pct_total'] = wc['count'].apply(lambda x: x / total)\n",
    "        \n",
    "        wc = wc.sort_values(by='rank')\n",
    "        wc['cul_pct_total'] = wc['pct_total'].cumsum()\n",
    "\n",
    "        t2 = zip(appears_in.keys(), appears_in.values())\n",
    "        ac = pd.DataFrame(t2, columns=['word', 'appears_in'])\n",
    "        wc = ac.merge(wc, on='word')\n",
    "\n",
    "        wc['appears_in_pct'] = wc['appears_in'].apply(lambda x: x / total_docs)\n",
    "        \n",
    "        return wc.sort_values(by='rank')"
   ]
  },
  {
   "cell_type": "code",
   "execution_count": 17,
   "metadata": {},
   "outputs": [],
   "source": [
    "wc = count(shops['tokens'])"
   ]
  },
  {
   "cell_type": "code",
   "execution_count": 25,
   "metadata": {},
   "outputs": [
    {
     "data": {
      "text/html": [
       "<div>\n",
       "<style scoped>\n",
       "    .dataframe tbody tr th:only-of-type {\n",
       "        vertical-align: middle;\n",
       "    }\n",
       "\n",
       "    .dataframe tbody tr th {\n",
       "        vertical-align: top;\n",
       "    }\n",
       "\n",
       "    .dataframe thead th {\n",
       "        text-align: right;\n",
       "    }\n",
       "</style>\n",
       "<table border=\"1\" class=\"dataframe\">\n",
       "  <thead>\n",
       "    <tr style=\"text-align: right;\">\n",
       "      <th></th>\n",
       "      <th>word</th>\n",
       "      <th>appears_in</th>\n",
       "      <th>count</th>\n",
       "      <th>rank</th>\n",
       "      <th>pct_total</th>\n",
       "      <th>cul_pct_total</th>\n",
       "      <th>appears_in_pct</th>\n",
       "    </tr>\n",
       "  </thead>\n",
       "  <tbody>\n",
       "    <tr>\n",
       "      <th>29</th>\n",
       "      <td></td>\n",
       "      <td>7616</td>\n",
       "      <td>22606</td>\n",
       "      <td>1.0</td>\n",
       "      <td>0.057555</td>\n",
       "      <td>0.057555</td>\n",
       "      <td>1.000000</td>\n",
       "    </tr>\n",
       "    <tr>\n",
       "      <th>33</th>\n",
       "      <td>coffee</td>\n",
       "      <td>4831</td>\n",
       "      <td>10107</td>\n",
       "      <td>2.0</td>\n",
       "      <td>0.025733</td>\n",
       "      <td>0.083288</td>\n",
       "      <td>0.634322</td>\n",
       "    </tr>\n",
       "    <tr>\n",
       "      <th>113</th>\n",
       "      <td>place</td>\n",
       "      <td>3872</td>\n",
       "      <td>6026</td>\n",
       "      <td>3.0</td>\n",
       "      <td>0.015342</td>\n",
       "      <td>0.098630</td>\n",
       "      <td>0.508403</td>\n",
       "    </tr>\n",
       "    <tr>\n",
       "      <th>159</th>\n",
       "      <td>good</td>\n",
       "      <td>3576</td>\n",
       "      <td>5341</td>\n",
       "      <td>4.0</td>\n",
       "      <td>0.013598</td>\n",
       "      <td>0.112228</td>\n",
       "      <td>0.469538</td>\n",
       "    </tr>\n",
       "    <tr>\n",
       "      <th>71</th>\n",
       "      <td>great</td>\n",
       "      <td>2839</td>\n",
       "      <td>3911</td>\n",
       "      <td>5.0</td>\n",
       "      <td>0.009957</td>\n",
       "      <td>0.122186</td>\n",
       "      <td>0.372768</td>\n",
       "    </tr>\n",
       "    <tr>\n",
       "      <th>39</th>\n",
       "      <td>check</td>\n",
       "      <td>3174</td>\n",
       "      <td>3468</td>\n",
       "      <td>6.0</td>\n",
       "      <td>0.008830</td>\n",
       "      <td>0.131015</td>\n",
       "      <td>0.416754</td>\n",
       "    </tr>\n",
       "    <tr>\n",
       "      <th>160</th>\n",
       "      <td>like</td>\n",
       "      <td>2273</td>\n",
       "      <td>3379</td>\n",
       "      <td>7.0</td>\n",
       "      <td>0.008603</td>\n",
       "      <td>0.139618</td>\n",
       "      <td>0.298451</td>\n",
       "    </tr>\n",
       "    <tr>\n",
       "      <th>473</th>\n",
       "      <td>come</td>\n",
       "      <td>1932</td>\n",
       "      <td>2638</td>\n",
       "      <td>8.0</td>\n",
       "      <td>0.006716</td>\n",
       "      <td>0.146335</td>\n",
       "      <td>0.253676</td>\n",
       "    </tr>\n",
       "    <tr>\n",
       "      <th>515</th>\n",
       "      <td>time</td>\n",
       "      <td>1764</td>\n",
       "      <td>2384</td>\n",
       "      <td>9.0</td>\n",
       "      <td>0.006070</td>\n",
       "      <td>0.152404</td>\n",
       "      <td>0.231618</td>\n",
       "    </tr>\n",
       "    <tr>\n",
       "      <th>36</th>\n",
       "      <td>drink</td>\n",
       "      <td>1641</td>\n",
       "      <td>2343</td>\n",
       "      <td>10.0</td>\n",
       "      <td>0.005965</td>\n",
       "      <td>0.158370</td>\n",
       "      <td>0.215467</td>\n",
       "    </tr>\n",
       "    <tr>\n",
       "      <th>32</th>\n",
       "      <td>love</td>\n",
       "      <td>1769</td>\n",
       "      <td>2298</td>\n",
       "      <td>11.0</td>\n",
       "      <td>0.005851</td>\n",
       "      <td>0.164220</td>\n",
       "      <td>0.232274</td>\n",
       "    </tr>\n",
       "    <tr>\n",
       "      <th>58</th>\n",
       "      <td>Austin</td>\n",
       "      <td>1786</td>\n",
       "      <td>2276</td>\n",
       "      <td>12.0</td>\n",
       "      <td>0.005795</td>\n",
       "      <td>0.170015</td>\n",
       "      <td>0.234506</td>\n",
       "    </tr>\n",
       "    <tr>\n",
       "      <th>16</th>\n",
       "      <td>1</td>\n",
       "      <td>2146</td>\n",
       "      <td>2251</td>\n",
       "      <td>13.0</td>\n",
       "      <td>0.005731</td>\n",
       "      <td>0.175746</td>\n",
       "      <td>0.281775</td>\n",
       "    </tr>\n",
       "    <tr>\n",
       "      <th>18</th>\n",
       "      <td>shop</td>\n",
       "      <td>1629</td>\n",
       "      <td>2183</td>\n",
       "      <td>14.0</td>\n",
       "      <td>0.005558</td>\n",
       "      <td>0.181304</td>\n",
       "      <td>0.213892</td>\n",
       "    </tr>\n",
       "    <tr>\n",
       "      <th>84</th>\n",
       "      <td>try</td>\n",
       "      <td>1674</td>\n",
       "      <td>2144</td>\n",
       "      <td>15.0</td>\n",
       "      <td>0.005459</td>\n",
       "      <td>0.186763</td>\n",
       "      <td>0.219800</td>\n",
       "    </tr>\n",
       "    <tr>\n",
       "      <th>25</th>\n",
       "      <td>order</td>\n",
       "      <td>1446</td>\n",
       "      <td>2129</td>\n",
       "      <td>16.0</td>\n",
       "      <td>0.005420</td>\n",
       "      <td>0.192183</td>\n",
       "      <td>0.189863</td>\n",
       "    </tr>\n",
       "    <tr>\n",
       "      <th>34</th>\n",
       "      <td>get</td>\n",
       "      <td>1468</td>\n",
       "      <td>1904</td>\n",
       "      <td>17.0</td>\n",
       "      <td>0.004848</td>\n",
       "      <td>0.197031</td>\n",
       "      <td>0.192752</td>\n",
       "    </tr>\n",
       "    <tr>\n",
       "      <th>659</th>\n",
       "      <td>work</td>\n",
       "      <td>1486</td>\n",
       "      <td>1904</td>\n",
       "      <td>18.0</td>\n",
       "      <td>0.004848</td>\n",
       "      <td>0.201878</td>\n",
       "      <td>0.195116</td>\n",
       "    </tr>\n",
       "    <tr>\n",
       "      <th>347</th>\n",
       "      <td>food</td>\n",
       "      <td>1395</td>\n",
       "      <td>1880</td>\n",
       "      <td>19.0</td>\n",
       "      <td>0.004787</td>\n",
       "      <td>0.206665</td>\n",
       "      <td>0.183167</td>\n",
       "    </tr>\n",
       "    <tr>\n",
       "      <th>62</th>\n",
       "      <td>nice</td>\n",
       "      <td>1508</td>\n",
       "      <td>1803</td>\n",
       "      <td>20.0</td>\n",
       "      <td>0.004590</td>\n",
       "      <td>0.211255</td>\n",
       "      <td>0.198004</td>\n",
       "    </tr>\n",
       "    <tr>\n",
       "      <th>184</th>\n",
       "      <td>friendly</td>\n",
       "      <td>1628</td>\n",
       "      <td>1724</td>\n",
       "      <td>21.0</td>\n",
       "      <td>0.004389</td>\n",
       "      <td>0.215645</td>\n",
       "      <td>0.213761</td>\n",
       "    </tr>\n",
       "    <tr>\n",
       "      <th>23</th>\n",
       "      <td>latte</td>\n",
       "      <td>1176</td>\n",
       "      <td>1711</td>\n",
       "      <td>22.0</td>\n",
       "      <td>0.004356</td>\n",
       "      <td>0.220001</td>\n",
       "      <td>0.154412</td>\n",
       "    </tr>\n",
       "    <tr>\n",
       "      <th>615</th>\n",
       "      <td>little</td>\n",
       "      <td>1235</td>\n",
       "      <td>1496</td>\n",
       "      <td>23.0</td>\n",
       "      <td>0.003809</td>\n",
       "      <td>0.223810</td>\n",
       "      <td>0.162159</td>\n",
       "    </tr>\n",
       "    <tr>\n",
       "      <th>60</th>\n",
       "      <td>go</td>\n",
       "      <td>1204</td>\n",
       "      <td>1487</td>\n",
       "      <td>24.0</td>\n",
       "      <td>0.003786</td>\n",
       "      <td>0.227596</td>\n",
       "      <td>0.158088</td>\n",
       "    </tr>\n",
       "    <tr>\n",
       "      <th>400</th>\n",
       "      <td>people</td>\n",
       "      <td>1144</td>\n",
       "      <td>1402</td>\n",
       "      <td>25.0</td>\n",
       "      <td>0.003570</td>\n",
       "      <td>0.231165</td>\n",
       "      <td>0.150210</td>\n",
       "    </tr>\n",
       "    <tr>\n",
       "      <th>41</th>\n",
       "      <td>pretty</td>\n",
       "      <td>1079</td>\n",
       "      <td>1365</td>\n",
       "      <td>26.0</td>\n",
       "      <td>0.003475</td>\n",
       "      <td>0.234641</td>\n",
       "      <td>0.141675</td>\n",
       "    </tr>\n",
       "    <tr>\n",
       "      <th>153</th>\n",
       "      <td>service</td>\n",
       "      <td>1170</td>\n",
       "      <td>1339</td>\n",
       "      <td>27.0</td>\n",
       "      <td>0.003409</td>\n",
       "      <td>0.238050</td>\n",
       "      <td>0.153624</td>\n",
       "    </tr>\n",
       "    <tr>\n",
       "      <th>503</th>\n",
       "      <td>tea</td>\n",
       "      <td>760</td>\n",
       "      <td>1335</td>\n",
       "      <td>28.0</td>\n",
       "      <td>0.003399</td>\n",
       "      <td>0.241449</td>\n",
       "      <td>0.099790</td>\n",
       "    </tr>\n",
       "    <tr>\n",
       "      <th>104</th>\n",
       "      <td>lot</td>\n",
       "      <td>1111</td>\n",
       "      <td>1324</td>\n",
       "      <td>29.0</td>\n",
       "      <td>0.003371</td>\n",
       "      <td>0.244820</td>\n",
       "      <td>0.145877</td>\n",
       "    </tr>\n",
       "    <tr>\n",
       "      <th>752</th>\n",
       "      <td>delicious</td>\n",
       "      <td>1175</td>\n",
       "      <td>1290</td>\n",
       "      <td>30.0</td>\n",
       "      <td>0.003284</td>\n",
       "      <td>0.248104</td>\n",
       "      <td>0.154280</td>\n",
       "    </tr>\n",
       "  </tbody>\n",
       "</table>\n",
       "</div>"
      ],
      "text/plain": [
       "          word  appears_in  count  rank  pct_total  cul_pct_total  \\\n",
       "29                    7616  22606   1.0   0.057555       0.057555   \n",
       "33      coffee        4831  10107   2.0   0.025733       0.083288   \n",
       "113      place        3872   6026   3.0   0.015342       0.098630   \n",
       "159       good        3576   5341   4.0   0.013598       0.112228   \n",
       "71       great        2839   3911   5.0   0.009957       0.122186   \n",
       "39       check        3174   3468   6.0   0.008830       0.131015   \n",
       "160       like        2273   3379   7.0   0.008603       0.139618   \n",
       "473       come        1932   2638   8.0   0.006716       0.146335   \n",
       "515       time        1764   2384   9.0   0.006070       0.152404   \n",
       "36       drink        1641   2343  10.0   0.005965       0.158370   \n",
       "32        love        1769   2298  11.0   0.005851       0.164220   \n",
       "58      Austin        1786   2276  12.0   0.005795       0.170015   \n",
       "16           1        2146   2251  13.0   0.005731       0.175746   \n",
       "18        shop        1629   2183  14.0   0.005558       0.181304   \n",
       "84         try        1674   2144  15.0   0.005459       0.186763   \n",
       "25       order        1446   2129  16.0   0.005420       0.192183   \n",
       "34         get        1468   1904  17.0   0.004848       0.197031   \n",
       "659       work        1486   1904  18.0   0.004848       0.201878   \n",
       "347       food        1395   1880  19.0   0.004787       0.206665   \n",
       "62        nice        1508   1803  20.0   0.004590       0.211255   \n",
       "184   friendly        1628   1724  21.0   0.004389       0.215645   \n",
       "23       latte        1176   1711  22.0   0.004356       0.220001   \n",
       "615     little        1235   1496  23.0   0.003809       0.223810   \n",
       "60          go        1204   1487  24.0   0.003786       0.227596   \n",
       "400     people        1144   1402  25.0   0.003570       0.231165   \n",
       "41      pretty        1079   1365  26.0   0.003475       0.234641   \n",
       "153    service        1170   1339  27.0   0.003409       0.238050   \n",
       "503        tea         760   1335  28.0   0.003399       0.241449   \n",
       "104        lot        1111   1324  29.0   0.003371       0.244820   \n",
       "752  delicious        1175   1290  30.0   0.003284       0.248104   \n",
       "\n",
       "     appears_in_pct  \n",
       "29         1.000000  \n",
       "33         0.634322  \n",
       "113        0.508403  \n",
       "159        0.469538  \n",
       "71         0.372768  \n",
       "39         0.416754  \n",
       "160        0.298451  \n",
       "473        0.253676  \n",
       "515        0.231618  \n",
       "36         0.215467  \n",
       "32         0.232274  \n",
       "58         0.234506  \n",
       "16         0.281775  \n",
       "18         0.213892  \n",
       "84         0.219800  \n",
       "25         0.189863  \n",
       "34         0.192752  \n",
       "659        0.195116  \n",
       "347        0.183167  \n",
       "62         0.198004  \n",
       "184        0.213761  \n",
       "23         0.154412  \n",
       "615        0.162159  \n",
       "60         0.158088  \n",
       "400        0.150210  \n",
       "41         0.141675  \n",
       "153        0.153624  \n",
       "503        0.099790  \n",
       "104        0.145877  \n",
       "752        0.154280  "
      ]
     },
     "execution_count": 25,
     "metadata": {},
     "output_type": "execute_result"
    }
   ],
   "source": [
    "wc.head(30)"
   ]
  },
  {
   "cell_type": "code",
   "execution_count": 19,
   "metadata": {},
   "outputs": [
    {
     "data": {
      "image/png": "[encoded data removed]",
      "text/plain": [
       "<Figure size 432x288 with 1 Axes>"
      ]
     },
     "metadata": {
      "needs_background": "light"
     },
     "output_type": "display_data"
    }
   ],
   "source": [
    "wc = count(shops['lemmas'])\n",
    "wc_top20 = wc[wc['rank'] <= 20]\n",
    "\n",
    "squarify.plot(sizes=wc_top20['pct_total'], label=wc_top20['word'], alpha=.8 )\n",
    "plt.axis('off')\n",
    "plt.show()"
   ]
  },
  {
   "cell_type": "code",
   "execution_count": 20,
   "metadata": {},
   "outputs": [],
   "source": [
    "# Use spacy\n",
    "\n",
    "import spacy \n",
    "\n",
    "nlp = spacy.load('en_core_web_lg')"
   ]
  },
  {
   "cell_type": "code",
   "execution_count": 21,
   "metadata": {},
   "outputs": [],
   "source": [
    "doc = nlp(shops['full_review_text'][0])"
   ]
  },
  {
   "cell_type": "code",
   "execution_count": 24,
   "metadata": {},
   "outputs": [
    {
     "name": "stdout",
     "output_type": "stream",
     "text": [
      " \n",
      "11/25/2016\n",
      "1\n",
      "check\n",
      "-\n",
      "in\n",
      "Love\n",
      "love\n",
      "loved\n",
      "the\n",
      "atmosphere\n",
      "!\n",
      "Every\n",
      "corner\n",
      "of\n",
      "the\n",
      "coffee\n",
      "shop\n",
      "had\n",
      "its\n",
      "own\n",
      "style\n",
      ",\n",
      "and\n",
      "there\n",
      "were\n",
      "swings\n",
      "!\n",
      "!\n",
      "!\n",
      "I\n",
      "ordered\n",
      "the\n",
      "matcha\n",
      "latte\n",
      ",\n",
      "and\n",
      "it\n",
      "was\n",
      "muy\n",
      "fantastico\n",
      "!\n",
      "Ordering\n",
      "and\n",
      "getting\n",
      "my\n",
      "drink\n",
      "were\n",
      "pretty\n",
      "streamlined\n",
      ".\n",
      "I\n",
      "ordered\n",
      "on\n",
      "an\n",
      "iPad\n",
      ",\n",
      "which\n",
      "included\n",
      "all\n",
      "beverage\n",
      "selections\n",
      "that\n",
      "ranged\n",
      "from\n",
      "coffee\n",
      "to\n",
      "wine\n",
      ",\n",
      "desired\n",
      "level\n",
      "of\n",
      "sweetness\n",
      ",\n",
      "and\n",
      "a\n",
      "checkout\n",
      "system\n",
      ".\n",
      "I\n",
      "got\n",
      "my\n",
      "latte\n",
      "within\n",
      "minutes\n",
      "!\n",
      " \n",
      "I\n",
      "was\n",
      "hoping\n",
      "for\n",
      "a\n",
      "typical\n",
      "heart\n",
      "or\n",
      "feather\n",
      "on\n",
      "my\n",
      "latte\n",
      ",\n",
      "but\n",
      "found\n",
      "myself\n",
      "listing\n",
      "out\n",
      "all\n",
      "the\n",
      "possibilities\n",
      "of\n",
      "what\n",
      "the\n",
      "art\n",
      "may\n",
      "be\n",
      ".\n",
      "Any\n",
      "ideas\n",
      "?\n"
     ]
    }
   ],
   "source": [
    "for token in doc: \n",
    "    print(token.text)"
   ]
  },
  {
   "cell_type": "code",
   "execution_count": 32,
   "metadata": {},
   "outputs": [],
   "source": [
    "STOP_WORDS = nlp.Defaults.stop_words.union(['coffee', 'place', 'shop', 'austin', 1, 'order', 'check', 'in', '1', 'listed', ' ', 'coffeeshop'])"
   ]
  },
  {
   "cell_type": "code",
   "execution_count": 37,
   "metadata": {},
   "outputs": [],
   "source": [
    "from spacy.tokenizer import Tokenizer"
   ]
  },
  {
   "cell_type": "code",
   "execution_count": 43,
   "metadata": {},
   "outputs": [],
   "source": [
    "tokens = []\n",
    "\n",
    "for doc in nlp.pipe(shops['full_review_text'], batch_size=500):\n",
    "    \n",
    "    doc_tokens = []\n",
    "    \n",
    "    for token in doc: \n",
    "        if (token.is_stop == False) & (token.is_punct == False):\n",
    "            if token.text.lower() not in STOP_WORDS:\n",
    "                doc_tokens.append(token.text.lower())\n",
    "   \n",
    "    tokens.append(doc_tokens)\n",
    "    \n",
    "shops['tokens'] = tokens"
   ]
  },
  {
   "cell_type": "code",
   "execution_count": 44,
   "metadata": {},
   "outputs": [
    {
     "data": {
      "text/plain": [
       "0       [11/25/2016, love, love, loved, atmosphere, co...\n",
       "1       [12/2/2016, date, night, ambiance, beautiful, ...\n",
       "2       [11/30/2016, brunch, spots, loved, eclectic, h...\n",
       "3       [11/25/2016, cool, decor, good, drinks, nice, ...\n",
       "4       [12/3/2016, located, northcross, mall, shoppin...\n",
       "                              ...                        \n",
       "7611    [2/19/2015, actually, step, restaurant, chance...\n",
       "7612    [1/21/2016, ok, steeping, room, awesome, great...\n",
       "7613    [4/30/2015, loved, coming, tea, atmosphere, pr...\n",
       "7614    [8/2/2015, food, average, booths, feel, clean,...\n",
       "7615    [5/23/2015, finally, stopped, lunch, colleague...\n",
       "Name: tokens, Length: 7616, dtype: object"
      ]
     },
     "execution_count": 44,
     "metadata": {},
     "output_type": "execute_result"
    }
   ],
   "source": [
    "shops['tokens'] "
   ]
  },
  {
   "cell_type": "code",
   "execution_count": 45,
   "metadata": {},
   "outputs": [],
   "source": [
    "# Use lemmatization\n",
    "\n",
    "def get_lemmas(text):\n",
    "\n",
    "    lemmas = []\n",
    "    \n",
    "    doc = nlp(text)\n",
    "    \n",
    "    for token in doc: \n",
    "        if token.text.lower() not in STOP_WORDS:\n",
    "            if ((token.is_stop == False) and (token.is_punct == False)) and (token.pos_ != 'PRON'):\n",
    "                lemmas.append(token.lemma_)\n",
    "    \n",
    "    return lemmas\n",
    "    "
   ]
  },
  {
   "cell_type": "code",
   "execution_count": 46,
   "metadata": {},
   "outputs": [],
   "source": [
    "shops['lemmas'] = shops['full_review_text'].apply(get_lemmas)"
   ]
  },
  {
   "cell_type": "code",
   "execution_count": 48,
   "metadata": {},
   "outputs": [
    {
     "data": {
      "image/png": "[encoded data removed]",
      "text/plain": [
       "<Figure size 432x288 with 1 Axes>"
      ]
     },
     "metadata": {
      "needs_background": "light"
     },
     "output_type": "display_data"
    }
   ],
   "source": [
    "# View overall count\n",
    "\n",
    "wc2 = count(shops['lemmas'])\n",
    "wc2_top20 = wc2[wc2['rank'] <= 20]\n",
    "\n",
    "squarify.plot(sizes=wc2_top20['pct_total'], label=wc2_top20['word'], alpha=.8 )\n",
    "plt.axis('off')\n",
    "plt.show()"
   ]
  },
  {
   "cell_type": "code",
   "execution_count": 50,
   "metadata": {},
   "outputs": [
    {
     "data": {
      "image/png": "[encoded data removed]",
      "text/plain": [
       "<Figure size 432x288 with 1 Axes>"
      ]
     },
     "metadata": {
      "needs_background": "light"
     },
     "output_type": "display_data"
    }
   ],
   "source": [
    "# View count by rating = 5.0\n",
    "\n",
    "shops_5 = shops.loc[shops['star_rating'] == 5.0] \n",
    "\n",
    "wc_5 = count(shops_5['lemmas']) \n",
    "wc_5_top20 = wc_5[wc_5['rank'] <= 20]\n",
    "\n",
    "squarify.plot(sizes=wc_5_top20['pct_total'], label=wc_5_top20['word'], alpha=.8 )\n",
    "plt.axis('off')\n",
    "plt.show()"
   ]
  },
  {
   "cell_type": "code",
   "execution_count": 51,
   "metadata": {},
   "outputs": [
    {
     "data": {
      "image/png": "[encoded data removed]",
      "text/plain": [
       "<Figure size 432x288 with 1 Axes>"
      ]
     },
     "metadata": {
      "needs_background": "light"
     },
     "output_type": "display_data"
    }
   ],
   "source": [
    "# View count by rating = 4.0\n",
    "\n",
    "shops_4 = shops.loc[shops['star_rating'] == 4.0] \n",
    "\n",
    "wc_4 = count(shops_4['lemmas']) \n",
    "wc_4_top20 = wc_4[wc_4['rank'] <= 20]\n",
    "\n",
    "squarify.plot(sizes=wc_4_top20['pct_total'], label=wc_4_top20['word'], alpha=.8 )\n",
    "plt.axis('off')\n",
    "plt.show()"
   ]
  },
  {
   "cell_type": "code",
   "execution_count": 52,
   "metadata": {},
   "outputs": [
    {
     "data": {
      "image/png": "[encoded data removed]",
      "text/plain": [
       "<Figure size 432x288 with 1 Axes>"
      ]
     },
     "metadata": {
      "needs_background": "light"
     },
     "output_type": "display_data"
    }
   ],
   "source": [
    "# View count by rating = 3.0\n",
    "\n",
    "shops_3 = shops.loc[shops['star_rating'] == 3.0] \n",
    "\n",
    "wc_3 = count(shops_3['lemmas']) \n",
    "wc_3_top20 = wc_3[wc_3['rank'] <= 20]\n",
    "\n",
    "squarify.plot(sizes=wc_3_top20['pct_total'], label=wc_3_top20['word'], alpha=.8 )\n",
    "plt.axis('off')\n",
    "plt.show()"
   ]
  },
  {
   "cell_type": "code",
   "execution_count": 53,
   "metadata": {},
   "outputs": [
    {
     "data": {
      "image/png": "[encoded data removed]",
      "text/plain": [
       "<Figure size 432x288 with 1 Axes>"
      ]
     },
     "metadata": {
      "needs_background": "light"
     },
     "output_type": "display_data"
    }
   ],
   "source": [
    "# View count by rating = 2.0\n",
    "\n",
    "shops_2 = shops.loc[shops['star_rating'] == 2.0] \n",
    "\n",
    "wc_2 = count(shops_2['lemmas']) \n",
    "wc_2_top20 = wc_2[wc_2['rank'] <= 20]\n",
    "\n",
    "squarify.plot(sizes=wc_2_top20['pct_total'], label=wc_2_top20['word'], alpha=.8 )\n",
    "plt.axis('off')\n",
    "plt.show()"
   ]
  },
  {
   "cell_type": "code",
   "execution_count": 54,
   "metadata": {},
   "outputs": [
    {
     "data": {
      "image/png": "[encoded data removed]",
      "text/plain": [
       "<Figure size 432x288 with 1 Axes>"
      ]
     },
     "metadata": {
      "needs_background": "light"
     },
     "output_type": "display_data"
    }
   ],
   "source": [
    "# View count by rating = 1.0\n",
    "\n",
    "shops_1 = shops.loc[shops['star_rating'] == 1.0] \n",
    "\n",
    "wc_1 = count(shops_1['lemmas']) \n",
    "wc_1_top20 = wc_1[wc_1['rank'] <= 20]\n",
    "\n",
    "squarify.plot(sizes=wc_1_top20['pct_total'], label=wc_1_top20['word'], alpha=.8 )\n",
    "plt.axis('off')\n",
    "plt.show()"
   ]
  },
  {
   "cell_type": "code",
   "execution_count": 55,
   "metadata": {},
   "outputs": [],
   "source": [
    "shops_ratings = shops[['lemmas', 'star_rating']].copy()"
   ]
  },
  {
   "cell_type": "code",
   "execution_count": 58,
   "metadata": {},
   "outputs": [
    {
     "data": {
      "text/html": [
       "<div>\n",
       "<style scoped>\n",
       "    .dataframe tbody tr th:only-of-type {\n",
       "        vertical-align: middle;\n",
       "    }\n",
       "\n",
       "    .dataframe tbody tr th {\n",
       "        vertical-align: top;\n",
       "    }\n",
       "\n",
       "    .dataframe thead th {\n",
       "        text-align: right;\n",
       "    }\n",
       "</style>\n",
       "<table border=\"1\" class=\"dataframe\">\n",
       "  <thead>\n",
       "    <tr style=\"text-align: right;\">\n",
       "      <th></th>\n",
       "      <th>star_rating</th>\n",
       "      <th>variable</th>\n",
       "      <th>lemma</th>\n",
       "    </tr>\n",
       "  </thead>\n",
       "  <tbody>\n",
       "    <tr>\n",
       "      <th>0</th>\n",
       "      <td>5.0</td>\n",
       "      <td>0</td>\n",
       "      <td>11/25/2016</td>\n",
       "    </tr>\n",
       "    <tr>\n",
       "      <th>1</th>\n",
       "      <td>4.0</td>\n",
       "      <td>0</td>\n",
       "      <td>12/2/2016</td>\n",
       "    </tr>\n",
       "    <tr>\n",
       "      <th>2</th>\n",
       "      <td>4.0</td>\n",
       "      <td>0</td>\n",
       "      <td>11/30/2016</td>\n",
       "    </tr>\n",
       "    <tr>\n",
       "      <th>3</th>\n",
       "      <td>2.0</td>\n",
       "      <td>0</td>\n",
       "      <td>11/25/2016</td>\n",
       "    </tr>\n",
       "    <tr>\n",
       "      <th>4</th>\n",
       "      <td>4.0</td>\n",
       "      <td>0</td>\n",
       "      <td>12/3/2016</td>\n",
       "    </tr>\n",
       "    <tr>\n",
       "      <th>...</th>\n",
       "      <td>...</td>\n",
       "      <td>...</td>\n",
       "      <td>...</td>\n",
       "    </tr>\n",
       "    <tr>\n",
       "      <th>2932155</th>\n",
       "      <td>4.0</td>\n",
       "      <td>384</td>\n",
       "      <td>NaN</td>\n",
       "    </tr>\n",
       "    <tr>\n",
       "      <th>2932156</th>\n",
       "      <td>5.0</td>\n",
       "      <td>384</td>\n",
       "      <td>NaN</td>\n",
       "    </tr>\n",
       "    <tr>\n",
       "      <th>2932157</th>\n",
       "      <td>4.0</td>\n",
       "      <td>384</td>\n",
       "      <td>NaN</td>\n",
       "    </tr>\n",
       "    <tr>\n",
       "      <th>2932158</th>\n",
       "      <td>3.0</td>\n",
       "      <td>384</td>\n",
       "      <td>NaN</td>\n",
       "    </tr>\n",
       "    <tr>\n",
       "      <th>2932159</th>\n",
       "      <td>4.0</td>\n",
       "      <td>384</td>\n",
       "      <td>NaN</td>\n",
       "    </tr>\n",
       "  </tbody>\n",
       "</table>\n",
       "<p>2932160 rows × 3 columns</p>\n",
       "</div>"
      ],
      "text/plain": [
       "         star_rating variable       lemma\n",
       "0                5.0        0  11/25/2016\n",
       "1                4.0        0   12/2/2016\n",
       "2                4.0        0  11/30/2016\n",
       "3                2.0        0  11/25/2016\n",
       "4                4.0        0   12/3/2016\n",
       "...              ...      ...         ...\n",
       "2932155          4.0      384         NaN\n",
       "2932156          5.0      384         NaN\n",
       "2932157          4.0      384         NaN\n",
       "2932158          3.0      384         NaN\n",
       "2932159          4.0      384         NaN\n",
       "\n",
       "[2932160 rows x 3 columns]"
      ]
     },
     "execution_count": 58,
     "metadata": {},
     "output_type": "execute_result"
    }
   ],
   "source": [
    "shops_ratings['lemmas'].apply(pd.Series) \\\n",
    "    .merge(shops_ratings, right_index = True, left_index = True) \\\n",
    "    .drop(['lemmas'], axis=1) \\\n",
    "    .melt(id_vars = 'star_rating', value_name='lemma')"
   ]
  },
  {
   "cell_type": "code",
   "execution_count": 75,
   "metadata": {},
   "outputs": [
    {
     "name": "stdout",
     "output_type": "stream",
     "text": [
      "(7616, 2)\n"
     ]
    },
    {
     "data": {
      "text/html": [
       "<div>\n",
       "<style scoped>\n",
       "    .dataframe tbody tr th:only-of-type {\n",
       "        vertical-align: middle;\n",
       "    }\n",
       "\n",
       "    .dataframe tbody tr th {\n",
       "        vertical-align: top;\n",
       "    }\n",
       "\n",
       "    .dataframe thead th {\n",
       "        text-align: right;\n",
       "    }\n",
       "</style>\n",
       "<table border=\"1\" class=\"dataframe\">\n",
       "  <thead>\n",
       "    <tr style=\"text-align: right;\">\n",
       "      <th></th>\n",
       "      <th>lemmas</th>\n",
       "      <th>star_rating</th>\n",
       "    </tr>\n",
       "  </thead>\n",
       "  <tbody>\n",
       "    <tr>\n",
       "      <th>0</th>\n",
       "      <td>[11/25/2016, Love, love, love, atmosphere, cor...</td>\n",
       "      <td>5.0</td>\n",
       "    </tr>\n",
       "    <tr>\n",
       "      <th>1</th>\n",
       "      <td>[12/2/2016, Date, Night, Ambiance, beautiful, ...</td>\n",
       "      <td>4.0</td>\n",
       "    </tr>\n",
       "    <tr>\n",
       "      <th>2</th>\n",
       "      <td>[11/30/2016, Brunch, Spots, love, eclectic, ho...</td>\n",
       "      <td>4.0</td>\n",
       "    </tr>\n",
       "    <tr>\n",
       "      <th>3</th>\n",
       "      <td>[11/25/2016, cool, decor, good, drink, nice, s...</td>\n",
       "      <td>2.0</td>\n",
       "    </tr>\n",
       "    <tr>\n",
       "      <th>4</th>\n",
       "      <td>[12/3/2016, locate, Northcross, mall, shopping...</td>\n",
       "      <td>4.0</td>\n",
       "    </tr>\n",
       "  </tbody>\n",
       "</table>\n",
       "</div>"
      ],
      "text/plain": [
       "                                              lemmas  star_rating\n",
       "0  [11/25/2016, Love, love, love, atmosphere, cor...          5.0\n",
       "1  [12/2/2016, Date, Night, Ambiance, beautiful, ...          4.0\n",
       "2  [11/30/2016, Brunch, Spots, love, eclectic, ho...          4.0\n",
       "3  [11/25/2016, cool, decor, good, drink, nice, s...          2.0\n",
       "4  [12/3/2016, locate, Northcross, mall, shopping...          4.0"
      ]
     },
     "execution_count": 75,
     "metadata": {},
     "output_type": "execute_result"
    }
   ],
   "source": [
    "shops_ratings2 = shops_ratings.dropna(axis=1)\n",
    "\n",
    "print(shops_ratings2.shape)\n",
    "shops_ratings2.head()"
   ]
  },
  {
   "cell_type": "markdown",
   "metadata": {},
   "source": [
    "## Can visualize the words with the greatest difference in counts between 'good' & 'bad'?\n",
    "\n",
    "Couple Notes: \n",
    "- Rel. freq. instead of absolute counts b/c of different numbers of reviews\n",
    "- Only look at the top 5-10 words with the greatest differences\n"
   ]
  },
  {
   "cell_type": "code",
   "execution_count": null,
   "metadata": {},
   "outputs": [],
   "source": []
  },
  {
   "cell_type": "markdown",
   "metadata": {
    "colab_type": "text",
    "id": "1dCb1q8XphcP",
    "toc-hr-collapsed": true
   },
   "source": [
    "## Stretch Goals\n",
    "\n",
    "* Analyze another corpus of documents - such as Indeed.com job listings ;).\n",
    "* Play with the Spacy API to\n",
    " - Extract Named Entities\n",
    " - Extracting 'noun chunks'\n",
    " - Attempt Document Classification with just Spacy\n",
    " - *Note:* This [course](https://course.spacy.io/) will be of interesting in helping you with these stretch goals. \n",
    "* Try to build a plotly dash app with your text data \n",
    "\n"
   ]
  }
 ],
 "metadata": {
  "colab": {
   "collapsed_sections": [],
   "name": "LS_DS_421_Text_Data_Assignment.ipynb",
   "provenance": [],
   "version": "0.3.2"
  },
  "kernelspec": {
   "display_name": "U4-S1-NLP (Python3)",
   "language": "python",
   "name": "u4-s1-nlp"
  },
  "language_info": {
   "codemirror_mode": {
    "name": "ipython",
    "version": 3
   },
   "file_extension": ".py",
   "mimetype": "text/x-python",
   "name": "python",
   "nbconvert_exporter": "python",
   "pygments_lexer": "ipython3",
   "version": "3.7.0"
  },
  "toc-autonumbering": false
 },
 "nbformat": 4,
 "nbformat_minor": 4
}
